{
 "cells": [
  {
   "cell_type": "code",
   "execution_count": null,
   "metadata": {},
   "source": [
    "print('Good vs No Good Classification - Data Exploration')\n",
    "print('\\nObjective: Explore and understand the dataset for our binary image classification project.')"
   ]
  },
  {
   "cell_type": "code",
   "execution_count": null,
   "metadata": {},
   "source": [
    "# Import required libraries\n",
    "import os\n",
    "import numpy as np\n",
    "import pandas as pd\n",
    "import matplotlib.pyplot as plt\n",
    "import seaborn as sns\n",
    "from PIL import Image"
   ]
  },
  {
   "cell_type": "code",
   "execution_count": null,
   "metadata": {},
   "source": [
    "# Set up data directories\n",
    "PROJECT_ROOT = os.path.abspath('../')\n",
    "TRAIN_DIR = os.path.join(PROJECT_ROOT, 'data', 'train')\n",
    "VALIDATION_DIR = os.path.join(PROJECT_ROOT, 'data', 'validation')\n",
    "\n",
    "# Function to count images in each class\n",
    "def count_images_in_directory(directory):\n",
    "    class_counts = {}\n",
    "    for class_name in os.listdir(directory):\n",
    "        class_path = os.path.join(directory, class_name)\n",
    "        if os.path.isdir(class_path):\n",
    "            class_counts[class_name] = len(os.listdir(class_path))\n",
    "    return class_counts"
   ]
  },
  {
   "cell_type": "code",
   "execution_count": null,
   "metadata": {},
   "source": [
    "# Count images in training and validation sets\n",
    "train_counts = count_images_in_directory(TRAIN_DIR)\n",
    "validation_counts = count_images_in_directory(VALIDATION_DIR)\n",
    "\n",
    "print(\"Training Set Image Counts:\")\n",
    "print(train_counts)\n",
    "print(\"\\nValidation Set Image Counts:\")\n",
    "print(validation_counts)"
   ]
  },
  {
   "cell_type": "code",
   "execution_count": null,
   "metadata": {},
   "source": [
    "# Visualize class distribution\n",
    "plt.figure(figsize=(12, 5))\n",
    "\n",
    "plt.subplot(1, 2, 1)\n",
    "plt.title('Training Set Class Distribution')\n",
    "plt.pie(train_counts.values(), labels=train_counts.keys(), autopct='%1.1f%%')\n",
    "\n",
    "plt.subplot(1, 2, 2)\n",
    "plt.title('Validation Set Class Distribution')\n",
    "plt.pie(validation_counts.values(), labels=validation_counts.keys(), autopct='%1.1f%%')\n",
    "\n",
    "plt.tight_layout()\n",
    "plt.show()"
   ]
  },
  {
   "cell_type": "code",
   "execution_count": null,
   "metadata": {},
   "source": [
    "# Image size and format analysis\n",
    "def analyze_image_properties(directory):\n",
    "    image_sizes = []\n",
    "    image_formats = {}\n",
    "    \n",
    "    for class_name in os.listdir(directory):\n",
    "        class_path = os.path.join(directory, class_name)\n",
    "        if os.path.isdir(class_path):\n",
    "            for image_name in os.listdir(class_path):\n",
    "                image_path = os.path.join(class_path, image_name)\n",
    "                try:\n",
    "                    with Image.open(image_path) as img:\n",
    "                        image_sizes.append(img.size)\n",
    "                        image_formats[img.format] = image_formats.get(img.format, 0) + 1\n",
    "                except Exception as e:\n",
    "                    print(f\"Error processing {image_path}: {e}\")\n",
    "    \n",
    "    return image_sizes, image_formats\n",
    "\n",
    "train_sizes, train_formats = analyze_image_properties(TRAIN_DIR)\n",
    "\n",
    "print(\"Image Formats:\", train_formats)\n",
    "print(\"\\nImage Size Statistics:\")\n",
    "print(\"Minimum Size:\", min(train_sizes))\n",
    "print(\"Maximum Size:\", max(train_sizes))"
   ]
  },
  {
   "cell_type": "code",
   "execution_count": null,
   "metadata": {},
   "source": [
    "# Visualize image size distribution\n",
    "widths, heights = zip(*train_sizes)\n",
    "plt.figure(figsize=(12, 5))\n",
    "\n",
    "plt.subplot(1, 2, 1)\n",
    "plt.title('Image Width Distribution')\n",
    "plt.hist(widths, bins=20)\n",
    "plt.xlabel('Width (pixels)')\n",
    "plt.ylabel('Frequency')\n",
    "\n",
    "plt.subplot(1, 2, 2)\n",
    "plt.title('Image Height Distribution')\n",
    "plt.hist(heights, bins=20)\n",
    "plt.xlabel('Height (pixels)')\n",
    "plt.ylabel('Frequency')\n",
    "\n",
    "plt.tight_layout()\n",
    "plt.show()"
   ]
  },
  {
   "cell_type": "code",
   "execution_count": null,
   "metadata": {},
   "source": [
    "# Visualize sample images from each class\n",
    "def plot_sample_images(directory, num_samples=5):\n",
    "    plt.figure(figsize=(15, 3))\n",
    "    for i, class_name in enumerate(os.listdir(directory)):\n",
    "        class_path = os.path.join(directory, class_name)\n",
    "        if os.path.isdir(class_path):\n",
    "            samples = np.random.choice(os.listdir(class_path), num_samples)\n",
    "            for j, sample in enumerate(samples):\n",
    "                img_path = os.path.join(class_path, sample)\n",
    "                plt.subplot(len(os.listdir(directory)), num_samples, i*num_samples + j + 1)\n",
    "                img = plt.imread(img_path)\n",
    "                plt.imshow(img)\n",
    "                plt.axis('off')\n",
    "                if j == 0:\n",
    "                    plt.title(class_name)\n",
    "    plt.tight_layout()\n",
    "    plt.show()\n",
    "\n",
    "# Plot sample images from training set\n",
    "plot_sample_images(TRAIN_DIR)"
   ]
  },
  {
   "cell_type": "code",
   "execution_count": null,
   "metadata": {},
   "source": [
    "print('Data Exploration Insights:')\n",
    "print('\\n1. Class Distribution')\n",
    "print('   - Describes the number of images in \\'good\\' and \\'no good\\' categories')\n",
    "print('\\n2. Image Formats')\n",
    "print('   - Identifies types of image files (JPEG, PNG, etc.)')\n",
    "print('\\n3. Image Size Analysis')\n",
    "print('   - Shows variability in image dimensions')\n",
    "print('   - Helps determine preprocessing requirements')\n",
    "print('\\n4. Sample Visualization')\n",
    "print('   - Provides a quick visual overview of the dataset')"
   ]
  }
 ],
 "metadata": {
  "kernelspec": {
   "display_name": "Python 3",
   "language": "python",
   "name": "python3"
  },
  "language_info": {
   "name": "python",
   "version": "3.8.5"
  }
 },
 "nbformat": 4,
 "nbformat_minor": 4
}
